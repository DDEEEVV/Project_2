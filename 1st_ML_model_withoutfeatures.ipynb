{
 "cells": [
  {
   "cell_type": "code",
   "execution_count": 21,
   "metadata": {},
   "outputs": [],
   "source": [
    "import yfinance as yf\n",
    "import pandas as pd \n",
    "import numpy as np \n",
    "from pathlib import Path"
   ]
  },
  {
   "cell_type": "code",
   "execution_count": 22,
   "metadata": {},
   "outputs": [
    {
     "name": "stdout",
     "output_type": "stream",
     "text": [
      "[*********************100%***********************]  1 of 1 completed\n"
     ]
    }
   ],
   "source": [
    "cryptocurrencies = ['BTC-USD']\n",
    "start_date = \"2020-07-01\"\n",
    "end_date = \"2021-07-31\"\n",
    "bitcoin_data = yf.download(cryptocurrencies, start_date, end_date)"
   ]
  },
  {
   "cell_type": "code",
   "execution_count": 23,
   "metadata": {},
   "outputs": [
    {
     "data": {
      "text/html": [
       "<div>\n",
       "<style scoped>\n",
       "    .dataframe tbody tr th:only-of-type {\n",
       "        vertical-align: middle;\n",
       "    }\n",
       "\n",
       "    .dataframe tbody tr th {\n",
       "        vertical-align: top;\n",
       "    }\n",
       "\n",
       "    .dataframe thead th {\n",
       "        text-align: right;\n",
       "    }\n",
       "</style>\n",
       "<table border=\"1\" class=\"dataframe\">\n",
       "  <thead>\n",
       "    <tr style=\"text-align: right;\">\n",
       "      <th></th>\n",
       "      <th>Open</th>\n",
       "      <th>High</th>\n",
       "      <th>Low</th>\n",
       "      <th>Close</th>\n",
       "      <th>Adj Close</th>\n",
       "      <th>Volume</th>\n",
       "    </tr>\n",
       "    <tr>\n",
       "      <th>Date</th>\n",
       "      <th></th>\n",
       "      <th></th>\n",
       "      <th></th>\n",
       "      <th></th>\n",
       "      <th></th>\n",
       "      <th></th>\n",
       "    </tr>\n",
       "  </thead>\n",
       "  <tbody>\n",
       "    <tr>\n",
       "      <th>2020-07-01</th>\n",
       "      <td>9145.985352</td>\n",
       "      <td>9309.754883</td>\n",
       "      <td>9104.735352</td>\n",
       "      <td>9228.325195</td>\n",
       "      <td>9228.325195</td>\n",
       "      <td>15971550355</td>\n",
       "    </tr>\n",
       "    <tr>\n",
       "      <th>2020-07-02</th>\n",
       "      <td>9231.139648</td>\n",
       "      <td>9274.962891</td>\n",
       "      <td>9036.623047</td>\n",
       "      <td>9123.410156</td>\n",
       "      <td>9123.410156</td>\n",
       "      <td>16338916796</td>\n",
       "    </tr>\n",
       "    <tr>\n",
       "      <th>2020-07-03</th>\n",
       "      <td>9124.842773</td>\n",
       "      <td>9202.344727</td>\n",
       "      <td>9058.794922</td>\n",
       "      <td>9087.303711</td>\n",
       "      <td>9087.303711</td>\n",
       "      <td>13078970999</td>\n",
       "    </tr>\n",
       "    <tr>\n",
       "      <th>2020-07-04</th>\n",
       "      <td>9084.233398</td>\n",
       "      <td>9183.295898</td>\n",
       "      <td>9053.629883</td>\n",
       "      <td>9132.488281</td>\n",
       "      <td>9132.488281</td>\n",
       "      <td>12290528515</td>\n",
       "    </tr>\n",
       "    <tr>\n",
       "      <th>2020-07-05</th>\n",
       "      <td>9126.090820</td>\n",
       "      <td>9162.183594</td>\n",
       "      <td>8977.015625</td>\n",
       "      <td>9073.942383</td>\n",
       "      <td>9073.942383</td>\n",
       "      <td>12903406143</td>\n",
       "    </tr>\n",
       "    <tr>\n",
       "      <th>...</th>\n",
       "      <td>...</td>\n",
       "      <td>...</td>\n",
       "      <td>...</td>\n",
       "      <td>...</td>\n",
       "      <td>...</td>\n",
       "      <td>...</td>\n",
       "    </tr>\n",
       "    <tr>\n",
       "      <th>2021-07-27</th>\n",
       "      <td>37276.035156</td>\n",
       "      <td>39406.941406</td>\n",
       "      <td>36441.726562</td>\n",
       "      <td>39406.941406</td>\n",
       "      <td>39406.941406</td>\n",
       "      <td>35097370560</td>\n",
       "    </tr>\n",
       "    <tr>\n",
       "      <th>2021-07-28</th>\n",
       "      <td>39503.187500</td>\n",
       "      <td>40816.070312</td>\n",
       "      <td>38862.437500</td>\n",
       "      <td>39995.906250</td>\n",
       "      <td>39995.906250</td>\n",
       "      <td>38702404695</td>\n",
       "    </tr>\n",
       "    <tr>\n",
       "      <th>2021-07-29</th>\n",
       "      <td>39995.453125</td>\n",
       "      <td>40593.070312</td>\n",
       "      <td>39352.058594</td>\n",
       "      <td>40008.421875</td>\n",
       "      <td>40008.421875</td>\n",
       "      <td>27167146027</td>\n",
       "    </tr>\n",
       "    <tr>\n",
       "      <th>2021-07-30</th>\n",
       "      <td>40027.484375</td>\n",
       "      <td>42235.546875</td>\n",
       "      <td>38397.355469</td>\n",
       "      <td>42235.546875</td>\n",
       "      <td>42235.546875</td>\n",
       "      <td>33072782960</td>\n",
       "    </tr>\n",
       "    <tr>\n",
       "      <th>2021-07-31</th>\n",
       "      <td>42196.304688</td>\n",
       "      <td>42231.449219</td>\n",
       "      <td>41110.832031</td>\n",
       "      <td>41626.195312</td>\n",
       "      <td>41626.195312</td>\n",
       "      <td>25802845343</td>\n",
       "    </tr>\n",
       "  </tbody>\n",
       "</table>\n",
       "<p>396 rows × 6 columns</p>\n",
       "</div>"
      ],
      "text/plain": [
       "                    Open          High           Low         Close  \\\n",
       "Date                                                                 \n",
       "2020-07-01   9145.985352   9309.754883   9104.735352   9228.325195   \n",
       "2020-07-02   9231.139648   9274.962891   9036.623047   9123.410156   \n",
       "2020-07-03   9124.842773   9202.344727   9058.794922   9087.303711   \n",
       "2020-07-04   9084.233398   9183.295898   9053.629883   9132.488281   \n",
       "2020-07-05   9126.090820   9162.183594   8977.015625   9073.942383   \n",
       "...                  ...           ...           ...           ...   \n",
       "2021-07-27  37276.035156  39406.941406  36441.726562  39406.941406   \n",
       "2021-07-28  39503.187500  40816.070312  38862.437500  39995.906250   \n",
       "2021-07-29  39995.453125  40593.070312  39352.058594  40008.421875   \n",
       "2021-07-30  40027.484375  42235.546875  38397.355469  42235.546875   \n",
       "2021-07-31  42196.304688  42231.449219  41110.832031  41626.195312   \n",
       "\n",
       "               Adj Close       Volume  \n",
       "Date                                   \n",
       "2020-07-01   9228.325195  15971550355  \n",
       "2020-07-02   9123.410156  16338916796  \n",
       "2020-07-03   9087.303711  13078970999  \n",
       "2020-07-04   9132.488281  12290528515  \n",
       "2020-07-05   9073.942383  12903406143  \n",
       "...                  ...          ...  \n",
       "2021-07-27  39406.941406  35097370560  \n",
       "2021-07-28  39995.906250  38702404695  \n",
       "2021-07-29  40008.421875  27167146027  \n",
       "2021-07-30  42235.546875  33072782960  \n",
       "2021-07-31  41626.195312  25802845343  \n",
       "\n",
       "[396 rows x 6 columns]"
      ]
     },
     "execution_count": 23,
     "metadata": {},
     "output_type": "execute_result"
    }
   ],
   "source": [
    "bitcoin_data"
   ]
  },
  {
   "cell_type": "code",
   "execution_count": 24,
   "metadata": {},
   "outputs": [
    {
     "data": {
      "text/plain": [
       "<AxesSubplot:xlabel='Date'>"
      ]
     },
     "execution_count": 24,
     "metadata": {},
     "output_type": "execute_result"
    },
    {
     "data": {
      "image/png": "[encoded data removed]",
      "text/plain": [
       "<Figure size 1296x432 with 1 Axes>"
      ]
     },
     "metadata": {
      "needs_background": "light"
     },
     "output_type": "display_data"
    }
   ],
   "source": [
    "bitcoin_data[\"Close\"].plot(figsize=(18,6))"
   ]
  },
  {
   "cell_type": "code",
   "execution_count": 25,
   "metadata": {},
   "outputs": [
    {
     "data": {
      "text/plain": [
       "Date\n",
       "2020-07-04     True\n",
       "2020-07-05    False\n",
       "2020-07-06     True\n",
       "2020-07-07    False\n",
       "2020-07-08     True\n",
       "              ...  \n",
       "2021-07-27     True\n",
       "2021-07-28     True\n",
       "2021-07-29     True\n",
       "2021-07-30     True\n",
       "2021-07-31    False\n",
       "Name: Close, Length: 393, dtype: bool"
      ]
     },
     "execution_count": 25,
     "metadata": {},
     "output_type": "execute_result"
    }
   ],
   "source": [
    "y = bitcoin_data[\"Close\"].pct_change().dropna()\n",
    "y = (y > 0)\n",
    "y.value_counts()\n",
    "y = y.loc[\"2020-07-04\":\"2021-07-31\"]\n",
    "y"
   ]
  },
  {
   "cell_type": "code",
   "execution_count": 26,
   "metadata": {},
   "outputs": [
    {
     "data": {
      "text/html": [
       "<div>\n",
       "<style scoped>\n",
       "    .dataframe tbody tr th:only-of-type {\n",
       "        vertical-align: middle;\n",
       "    }\n",
       "\n",
       "    .dataframe tbody tr th {\n",
       "        vertical-align: top;\n",
       "    }\n",
       "\n",
       "    .dataframe thead th {\n",
       "        text-align: right;\n",
       "    }\n",
       "</style>\n",
       "<table border=\"1\" class=\"dataframe\">\n",
       "  <thead>\n",
       "    <tr style=\"text-align: right;\">\n",
       "      <th></th>\n",
       "      <th>Open</th>\n",
       "      <th>High</th>\n",
       "      <th>Low</th>\n",
       "      <th>Close</th>\n",
       "      <th>Adj Close</th>\n",
       "      <th>Volume</th>\n",
       "    </tr>\n",
       "    <tr>\n",
       "      <th>Date</th>\n",
       "      <th></th>\n",
       "      <th></th>\n",
       "      <th></th>\n",
       "      <th></th>\n",
       "      <th></th>\n",
       "      <th></th>\n",
       "    </tr>\n",
       "  </thead>\n",
       "  <tbody>\n",
       "    <tr>\n",
       "      <th>2020-07-03</th>\n",
       "      <td>9145.985352</td>\n",
       "      <td>9309.754883</td>\n",
       "      <td>9104.735352</td>\n",
       "      <td>9228.325195</td>\n",
       "      <td>9228.325195</td>\n",
       "      <td>1.597155e+10</td>\n",
       "    </tr>\n",
       "    <tr>\n",
       "      <th>2020-07-04</th>\n",
       "      <td>9231.139648</td>\n",
       "      <td>9274.962891</td>\n",
       "      <td>9036.623047</td>\n",
       "      <td>9123.410156</td>\n",
       "      <td>9123.410156</td>\n",
       "      <td>1.633892e+10</td>\n",
       "    </tr>\n",
       "    <tr>\n",
       "      <th>2020-07-05</th>\n",
       "      <td>9124.842773</td>\n",
       "      <td>9202.344727</td>\n",
       "      <td>9058.794922</td>\n",
       "      <td>9087.303711</td>\n",
       "      <td>9087.303711</td>\n",
       "      <td>1.307897e+10</td>\n",
       "    </tr>\n",
       "    <tr>\n",
       "      <th>2020-07-06</th>\n",
       "      <td>9084.233398</td>\n",
       "      <td>9183.295898</td>\n",
       "      <td>9053.629883</td>\n",
       "      <td>9132.488281</td>\n",
       "      <td>9132.488281</td>\n",
       "      <td>1.229053e+10</td>\n",
       "    </tr>\n",
       "    <tr>\n",
       "      <th>2020-07-07</th>\n",
       "      <td>9126.090820</td>\n",
       "      <td>9162.183594</td>\n",
       "      <td>8977.015625</td>\n",
       "      <td>9073.942383</td>\n",
       "      <td>9073.942383</td>\n",
       "      <td>1.290341e+10</td>\n",
       "    </tr>\n",
       "    <tr>\n",
       "      <th>...</th>\n",
       "      <td>...</td>\n",
       "      <td>...</td>\n",
       "      <td>...</td>\n",
       "      <td>...</td>\n",
       "      <td>...</td>\n",
       "      <td>...</td>\n",
       "    </tr>\n",
       "    <tr>\n",
       "      <th>2021-07-26</th>\n",
       "      <td>33593.730469</td>\n",
       "      <td>34490.390625</td>\n",
       "      <td>33424.859375</td>\n",
       "      <td>34292.445312</td>\n",
       "      <td>34292.445312</td>\n",
       "      <td>2.166471e+10</td>\n",
       "    </tr>\n",
       "    <tr>\n",
       "      <th>2021-07-27</th>\n",
       "      <td>34290.292969</td>\n",
       "      <td>35364.925781</td>\n",
       "      <td>33881.835938</td>\n",
       "      <td>35350.187500</td>\n",
       "      <td>35350.187500</td>\n",
       "      <td>2.085669e+10</td>\n",
       "    </tr>\n",
       "    <tr>\n",
       "      <th>2021-07-28</th>\n",
       "      <td>35384.031250</td>\n",
       "      <td>40499.675781</td>\n",
       "      <td>35287.312500</td>\n",
       "      <td>37337.535156</td>\n",
       "      <td>37337.535156</td>\n",
       "      <td>5.102213e+10</td>\n",
       "    </tr>\n",
       "    <tr>\n",
       "      <th>2021-07-29</th>\n",
       "      <td>37276.035156</td>\n",
       "      <td>39406.941406</td>\n",
       "      <td>36441.726562</td>\n",
       "      <td>39406.941406</td>\n",
       "      <td>39406.941406</td>\n",
       "      <td>3.509737e+10</td>\n",
       "    </tr>\n",
       "    <tr>\n",
       "      <th>2021-07-30</th>\n",
       "      <td>39503.187500</td>\n",
       "      <td>40816.070312</td>\n",
       "      <td>38862.437500</td>\n",
       "      <td>39995.906250</td>\n",
       "      <td>39995.906250</td>\n",
       "      <td>3.870240e+10</td>\n",
       "    </tr>\n",
       "  </tbody>\n",
       "</table>\n",
       "<p>393 rows × 6 columns</p>\n",
       "</div>"
      ],
      "text/plain": [
       "                    Open          High           Low         Close  \\\n",
       "Date                                                                 \n",
       "2020-07-03   9145.985352   9309.754883   9104.735352   9228.325195   \n",
       "2020-07-04   9231.139648   9274.962891   9036.623047   9123.410156   \n",
       "2020-07-05   9124.842773   9202.344727   9058.794922   9087.303711   \n",
       "2020-07-06   9084.233398   9183.295898   9053.629883   9132.488281   \n",
       "2020-07-07   9126.090820   9162.183594   8977.015625   9073.942383   \n",
       "...                  ...           ...           ...           ...   \n",
       "2021-07-26  33593.730469  34490.390625  33424.859375  34292.445312   \n",
       "2021-07-27  34290.292969  35364.925781  33881.835938  35350.187500   \n",
       "2021-07-28  35384.031250  40499.675781  35287.312500  37337.535156   \n",
       "2021-07-29  37276.035156  39406.941406  36441.726562  39406.941406   \n",
       "2021-07-30  39503.187500  40816.070312  38862.437500  39995.906250   \n",
       "\n",
       "               Adj Close        Volume  \n",
       "Date                                    \n",
       "2020-07-03   9228.325195  1.597155e+10  \n",
       "2020-07-04   9123.410156  1.633892e+10  \n",
       "2020-07-05   9087.303711  1.307897e+10  \n",
       "2020-07-06   9132.488281  1.229053e+10  \n",
       "2020-07-07   9073.942383  1.290341e+10  \n",
       "...                  ...           ...  \n",
       "2021-07-26  34292.445312  2.166471e+10  \n",
       "2021-07-27  35350.187500  2.085669e+10  \n",
       "2021-07-28  37337.535156  5.102213e+10  \n",
       "2021-07-29  39406.941406  3.509737e+10  \n",
       "2021-07-30  39995.906250  3.870240e+10  \n",
       "\n",
       "[393 rows x 6 columns]"
      ]
     },
     "execution_count": 26,
     "metadata": {},
     "output_type": "execute_result"
    }
   ],
   "source": [
    "X = bitcoin_data.shift(periods=2).dropna()\n",
    "X = X.loc[\"2020-07-02\":\"2021-07-30\"]\n",
    "X"
   ]
  },
  {
   "cell_type": "code",
   "execution_count": 27,
   "metadata": {},
   "outputs": [],
   "source": [
    "num_test = 33\n",
    "X_train = X[:-num_test]\n",
    "y_train = y[:-num_test]\n",
    "X_test = X[-num_test:]\n",
    "y_test = y[-num_test:]"
   ]
  },
  {
   "cell_type": "code",
   "execution_count": 28,
   "metadata": {},
   "outputs": [
    {
     "data": {
      "text/plain": [
       "((393, 6), (393,))"
      ]
     },
     "execution_count": 28,
     "metadata": {},
     "output_type": "execute_result"
    }
   ],
   "source": [
    "X.shape, y.shape"
   ]
  },
  {
   "cell_type": "code",
   "execution_count": 29,
   "metadata": {},
   "outputs": [
    {
     "data": {
      "text/plain": [
       "RandomForestClassifier(max_depth=4, random_state=17)"
      ]
     },
     "execution_count": 29,
     "metadata": {},
     "output_type": "execute_result"
    }
   ],
   "source": [
    "from sklearn.ensemble import RandomForestClassifier\n",
    "\n",
    "clf = RandomForestClassifier(max_depth=4, random_state=17)\n",
    "clf.fit(X_train, y_train)"
   ]
  },
  {
   "cell_type": "code",
   "execution_count": 30,
   "metadata": {},
   "outputs": [
    {
     "name": "stdout",
     "output_type": "stream",
     "text": [
      "0.5757575757575758\n"
     ]
    }
   ],
   "source": [
    "res = clf.predict(X_test)\n",
    "acc = (res== y_test.values).mean()\n",
    "print(acc)"
   ]
  },
  {
   "cell_type": "code",
   "execution_count": 31,
   "metadata": {},
   "outputs": [
    {
     "data": {
      "image/png": "[encoded data removed]",
      "text/plain": [
       "<Figure size 1296x648 with 1 Axes>"
      ]
     },
     "metadata": {
      "needs_background": "light"
     },
     "output_type": "display_data"
    }
   ],
   "source": [
    "%matplotlib inline\n",
    "import  matplotlib.pyplot as plt\n",
    "\n",
    "colors = ['green' if x else 'red' for x in res== y_test]\n",
    "\n",
    "ax = plt.gca()\n",
    "ax.plot(X_test['Open'],lw = 1, c = 'black')\n",
    "X_test.reset_index().plot.scatter( x = 'Date', y = 'Open',color = colors,s = 48,ax= ax,figsize=(18,9))\n",
    "ax.xaxis.set_major_locator(plt.MaxNLocator(4))"
   ]
  },
  {
   "cell_type": "code",
   "execution_count": 32,
   "metadata": {},
   "outputs": [
    {
     "name": "stdout",
     "output_type": "stream",
     "text": [
      "              precision    recall  f1-score   support\n",
      "\n",
      "       False       0.33      0.08      0.12        13\n",
      "        True       0.60      0.90      0.72        20\n",
      "\n",
      "    accuracy                           0.58        33\n",
      "   macro avg       0.47      0.49      0.42        33\n",
      "weighted avg       0.49      0.58      0.49        33\n",
      "\n"
     ]
    }
   ],
   "source": [
    "from sklearn.metrics import classification_report\n",
    "print(classification_report(y_test, res))"
   ]
  },
  {
   "cell_type": "code",
   "execution_count": 33,
   "metadata": {},
   "outputs": [
    {
     "name": "stdout",
     "output_type": "stream",
     "text": [
      "[*********************100%***********************]  1 of 1 completed\n"
     ]
    }
   ],
   "source": [
    "cryptocurrencies = ['BTC-USD']\n",
    "start_date = \"2020-01-01\"\n",
    "end_date = \"2022-07-11\"\n",
    "bitcoin_data = yf.download(cryptocurrencies, start_date, end_date)"
   ]
  },
  {
   "cell_type": "code",
   "execution_count": 34,
   "metadata": {},
   "outputs": [
    {
     "data": {
      "text/html": [
       "<div>\n",
       "<style scoped>\n",
       "    .dataframe tbody tr th:only-of-type {\n",
       "        vertical-align: middle;\n",
       "    }\n",
       "\n",
       "    .dataframe tbody tr th {\n",
       "        vertical-align: top;\n",
       "    }\n",
       "\n",
       "    .dataframe thead th {\n",
       "        text-align: right;\n",
       "    }\n",
       "</style>\n",
       "<table border=\"1\" class=\"dataframe\">\n",
       "  <thead>\n",
       "    <tr style=\"text-align: right;\">\n",
       "      <th></th>\n",
       "      <th>Open</th>\n",
       "      <th>High</th>\n",
       "      <th>Low</th>\n",
       "      <th>Close</th>\n",
       "      <th>Adj Close</th>\n",
       "      <th>Volume</th>\n",
       "    </tr>\n",
       "    <tr>\n",
       "      <th>Date</th>\n",
       "      <th></th>\n",
       "      <th></th>\n",
       "      <th></th>\n",
       "      <th></th>\n",
       "      <th></th>\n",
       "      <th></th>\n",
       "    </tr>\n",
       "  </thead>\n",
       "  <tbody>\n",
       "    <tr>\n",
       "      <th>2020-01-01</th>\n",
       "      <td>7194.892090</td>\n",
       "      <td>7254.330566</td>\n",
       "      <td>7174.944336</td>\n",
       "      <td>7200.174316</td>\n",
       "      <td>7200.174316</td>\n",
       "      <td>18565664997</td>\n",
       "    </tr>\n",
       "    <tr>\n",
       "      <th>2020-01-02</th>\n",
       "      <td>7202.551270</td>\n",
       "      <td>7212.155273</td>\n",
       "      <td>6935.270020</td>\n",
       "      <td>6985.470215</td>\n",
       "      <td>6985.470215</td>\n",
       "      <td>20802083465</td>\n",
       "    </tr>\n",
       "    <tr>\n",
       "      <th>2020-01-03</th>\n",
       "      <td>6984.428711</td>\n",
       "      <td>7413.715332</td>\n",
       "      <td>6914.996094</td>\n",
       "      <td>7344.884277</td>\n",
       "      <td>7344.884277</td>\n",
       "      <td>28111481032</td>\n",
       "    </tr>\n",
       "    <tr>\n",
       "      <th>2020-01-04</th>\n",
       "      <td>7345.375488</td>\n",
       "      <td>7427.385742</td>\n",
       "      <td>7309.514160</td>\n",
       "      <td>7410.656738</td>\n",
       "      <td>7410.656738</td>\n",
       "      <td>18444271275</td>\n",
       "    </tr>\n",
       "    <tr>\n",
       "      <th>2020-01-05</th>\n",
       "      <td>7410.451660</td>\n",
       "      <td>7544.497070</td>\n",
       "      <td>7400.535645</td>\n",
       "      <td>7411.317383</td>\n",
       "      <td>7411.317383</td>\n",
       "      <td>19725074095</td>\n",
       "    </tr>\n",
       "    <tr>\n",
       "      <th>...</th>\n",
       "      <td>...</td>\n",
       "      <td>...</td>\n",
       "      <td>...</td>\n",
       "      <td>...</td>\n",
       "      <td>...</td>\n",
       "      <td>...</td>\n",
       "    </tr>\n",
       "    <tr>\n",
       "      <th>2022-07-07</th>\n",
       "      <td>20547.814453</td>\n",
       "      <td>21771.816406</td>\n",
       "      <td>20296.103516</td>\n",
       "      <td>21637.587891</td>\n",
       "      <td>21637.587891</td>\n",
       "      <td>25814972520</td>\n",
       "    </tr>\n",
       "    <tr>\n",
       "      <th>2022-07-08</th>\n",
       "      <td>21637.154297</td>\n",
       "      <td>22314.941406</td>\n",
       "      <td>21257.453125</td>\n",
       "      <td>21731.117188</td>\n",
       "      <td>21731.117188</td>\n",
       "      <td>49899834488</td>\n",
       "    </tr>\n",
       "    <tr>\n",
       "      <th>2022-07-09</th>\n",
       "      <td>21716.828125</td>\n",
       "      <td>21877.138672</td>\n",
       "      <td>21445.957031</td>\n",
       "      <td>21592.207031</td>\n",
       "      <td>21592.207031</td>\n",
       "      <td>29641127858</td>\n",
       "    </tr>\n",
       "    <tr>\n",
       "      <th>2022-07-10</th>\n",
       "      <td>21591.080078</td>\n",
       "      <td>21591.080078</td>\n",
       "      <td>20727.123047</td>\n",
       "      <td>20860.449219</td>\n",
       "      <td>20860.449219</td>\n",
       "      <td>28688807249</td>\n",
       "    </tr>\n",
       "    <tr>\n",
       "      <th>2022-07-11</th>\n",
       "      <td>20856.353516</td>\n",
       "      <td>20856.353516</td>\n",
       "      <td>19924.539062</td>\n",
       "      <td>19970.556641</td>\n",
       "      <td>19970.556641</td>\n",
       "      <td>24150249025</td>\n",
       "    </tr>\n",
       "  </tbody>\n",
       "</table>\n",
       "<p>923 rows × 6 columns</p>\n",
       "</div>"
      ],
      "text/plain": [
       "                    Open          High           Low         Close  \\\n",
       "Date                                                                 \n",
       "2020-01-01   7194.892090   7254.330566   7174.944336   7200.174316   \n",
       "2020-01-02   7202.551270   7212.155273   6935.270020   6985.470215   \n",
       "2020-01-03   6984.428711   7413.715332   6914.996094   7344.884277   \n",
       "2020-01-04   7345.375488   7427.385742   7309.514160   7410.656738   \n",
       "2020-01-05   7410.451660   7544.497070   7400.535645   7411.317383   \n",
       "...                  ...           ...           ...           ...   \n",
       "2022-07-07  20547.814453  21771.816406  20296.103516  21637.587891   \n",
       "2022-07-08  21637.154297  22314.941406  21257.453125  21731.117188   \n",
       "2022-07-09  21716.828125  21877.138672  21445.957031  21592.207031   \n",
       "2022-07-10  21591.080078  21591.080078  20727.123047  20860.449219   \n",
       "2022-07-11  20856.353516  20856.353516  19924.539062  19970.556641   \n",
       "\n",
       "               Adj Close       Volume  \n",
       "Date                                   \n",
       "2020-01-01   7200.174316  18565664997  \n",
       "2020-01-02   6985.470215  20802083465  \n",
       "2020-01-03   7344.884277  28111481032  \n",
       "2020-01-04   7410.656738  18444271275  \n",
       "2020-01-05   7411.317383  19725074095  \n",
       "...                  ...          ...  \n",
       "2022-07-07  21637.587891  25814972520  \n",
       "2022-07-08  21731.117188  49899834488  \n",
       "2022-07-09  21592.207031  29641127858  \n",
       "2022-07-10  20860.449219  28688807249  \n",
       "2022-07-11  19970.556641  24150249025  \n",
       "\n",
       "[923 rows x 6 columns]"
      ]
     },
     "execution_count": 34,
     "metadata": {},
     "output_type": "execute_result"
    }
   ],
   "source": [
    "bitcoin_data"
   ]
  },
  {
   "cell_type": "code",
   "execution_count": 35,
   "metadata": {},
   "outputs": [
    {
     "data": {
      "text/plain": [
       "Date\n",
       "2021-01-05     True\n",
       "2021-01-06     True\n",
       "2021-01-07     True\n",
       "2021-01-08     True\n",
       "2021-01-09    False\n",
       "              ...  \n",
       "2022-06-27    False\n",
       "2022-06-28    False\n",
       "2022-06-29    False\n",
       "2022-06-30    False\n",
       "2022-07-01    False\n",
       "Name: Close, Length: 543, dtype: bool"
      ]
     },
     "execution_count": 35,
     "metadata": {},
     "output_type": "execute_result"
    }
   ],
   "source": [
    "y = bitcoin_data[\"Close\"].pct_change().dropna()\n",
    "y = (y > 0)\n",
    "y.value_counts()\n",
    "y = y.loc[\"2021-01-05\":\"2022-07-01\"]\n",
    "y"
   ]
  },
  {
   "cell_type": "code",
   "execution_count": 36,
   "metadata": {},
   "outputs": [
    {
     "data": {
      "text/html": [
       "<div>\n",
       "<style scoped>\n",
       "    .dataframe tbody tr th:only-of-type {\n",
       "        vertical-align: middle;\n",
       "    }\n",
       "\n",
       "    .dataframe tbody tr th {\n",
       "        vertical-align: top;\n",
       "    }\n",
       "\n",
       "    .dataframe thead th {\n",
       "        text-align: right;\n",
       "    }\n",
       "</style>\n",
       "<table border=\"1\" class=\"dataframe\">\n",
       "  <thead>\n",
       "    <tr style=\"text-align: right;\">\n",
       "      <th></th>\n",
       "      <th>Open</th>\n",
       "      <th>High</th>\n",
       "      <th>Low</th>\n",
       "      <th>Close</th>\n",
       "      <th>Adj Close</th>\n",
       "      <th>Volume</th>\n",
       "    </tr>\n",
       "    <tr>\n",
       "      <th>Date</th>\n",
       "      <th></th>\n",
       "      <th></th>\n",
       "      <th></th>\n",
       "      <th></th>\n",
       "      <th></th>\n",
       "      <th></th>\n",
       "    </tr>\n",
       "  </thead>\n",
       "  <tbody>\n",
       "    <tr>\n",
       "      <th>2021-01-04</th>\n",
       "      <td>29376.455078</td>\n",
       "      <td>33155.117188</td>\n",
       "      <td>29091.181641</td>\n",
       "      <td>32127.267578</td>\n",
       "      <td>32127.267578</td>\n",
       "      <td>6.786542e+10</td>\n",
       "    </tr>\n",
       "    <tr>\n",
       "      <th>2021-01-05</th>\n",
       "      <td>32129.408203</td>\n",
       "      <td>34608.558594</td>\n",
       "      <td>32052.316406</td>\n",
       "      <td>32782.023438</td>\n",
       "      <td>32782.023438</td>\n",
       "      <td>7.866524e+10</td>\n",
       "    </tr>\n",
       "    <tr>\n",
       "      <th>2021-01-06</th>\n",
       "      <td>32810.949219</td>\n",
       "      <td>33440.218750</td>\n",
       "      <td>28722.755859</td>\n",
       "      <td>31971.914062</td>\n",
       "      <td>31971.914062</td>\n",
       "      <td>8.116348e+10</td>\n",
       "    </tr>\n",
       "    <tr>\n",
       "      <th>2021-01-07</th>\n",
       "      <td>31977.041016</td>\n",
       "      <td>34437.589844</td>\n",
       "      <td>30221.187500</td>\n",
       "      <td>33992.429688</td>\n",
       "      <td>33992.429688</td>\n",
       "      <td>6.754732e+10</td>\n",
       "    </tr>\n",
       "    <tr>\n",
       "      <th>2021-01-08</th>\n",
       "      <td>34013.613281</td>\n",
       "      <td>36879.699219</td>\n",
       "      <td>33514.035156</td>\n",
       "      <td>36824.363281</td>\n",
       "      <td>36824.363281</td>\n",
       "      <td>7.528943e+10</td>\n",
       "    </tr>\n",
       "    <tr>\n",
       "      <th>...</th>\n",
       "      <td>...</td>\n",
       "      <td>...</td>\n",
       "      <td>...</td>\n",
       "      <td>...</td>\n",
       "      <td>...</td>\n",
       "      <td>...</td>\n",
       "    </tr>\n",
       "    <tr>\n",
       "      <th>2022-06-26</th>\n",
       "      <td>21084.648438</td>\n",
       "      <td>21472.917969</td>\n",
       "      <td>20777.511719</td>\n",
       "      <td>21231.656250</td>\n",
       "      <td>21231.656250</td>\n",
       "      <td>2.495778e+10</td>\n",
       "    </tr>\n",
       "    <tr>\n",
       "      <th>2022-06-27</th>\n",
       "      <td>21233.609375</td>\n",
       "      <td>21520.914062</td>\n",
       "      <td>20964.585938</td>\n",
       "      <td>21502.337891</td>\n",
       "      <td>21502.337891</td>\n",
       "      <td>1.837254e+10</td>\n",
       "    </tr>\n",
       "    <tr>\n",
       "      <th>2022-06-28</th>\n",
       "      <td>21496.494141</td>\n",
       "      <td>21783.724609</td>\n",
       "      <td>21016.269531</td>\n",
       "      <td>21027.294922</td>\n",
       "      <td>21027.294922</td>\n",
       "      <td>1.802717e+10</td>\n",
       "    </tr>\n",
       "    <tr>\n",
       "      <th>2022-06-29</th>\n",
       "      <td>21028.238281</td>\n",
       "      <td>21478.089844</td>\n",
       "      <td>20620.199219</td>\n",
       "      <td>20735.478516</td>\n",
       "      <td>20735.478516</td>\n",
       "      <td>2.096570e+10</td>\n",
       "    </tr>\n",
       "    <tr>\n",
       "      <th>2022-06-30</th>\n",
       "      <td>20731.544922</td>\n",
       "      <td>21164.423828</td>\n",
       "      <td>20228.812500</td>\n",
       "      <td>20280.634766</td>\n",
       "      <td>20280.634766</td>\n",
       "      <td>2.138154e+10</td>\n",
       "    </tr>\n",
       "  </tbody>\n",
       "</table>\n",
       "<p>543 rows × 6 columns</p>\n",
       "</div>"
      ],
      "text/plain": [
       "                    Open          High           Low         Close  \\\n",
       "Date                                                                 \n",
       "2021-01-04  29376.455078  33155.117188  29091.181641  32127.267578   \n",
       "2021-01-05  32129.408203  34608.558594  32052.316406  32782.023438   \n",
       "2021-01-06  32810.949219  33440.218750  28722.755859  31971.914062   \n",
       "2021-01-07  31977.041016  34437.589844  30221.187500  33992.429688   \n",
       "2021-01-08  34013.613281  36879.699219  33514.035156  36824.363281   \n",
       "...                  ...           ...           ...           ...   \n",
       "2022-06-26  21084.648438  21472.917969  20777.511719  21231.656250   \n",
       "2022-06-27  21233.609375  21520.914062  20964.585938  21502.337891   \n",
       "2022-06-28  21496.494141  21783.724609  21016.269531  21027.294922   \n",
       "2022-06-29  21028.238281  21478.089844  20620.199219  20735.478516   \n",
       "2022-06-30  20731.544922  21164.423828  20228.812500  20280.634766   \n",
       "\n",
       "               Adj Close        Volume  \n",
       "Date                                    \n",
       "2021-01-04  32127.267578  6.786542e+10  \n",
       "2021-01-05  32782.023438  7.866524e+10  \n",
       "2021-01-06  31971.914062  8.116348e+10  \n",
       "2021-01-07  33992.429688  6.754732e+10  \n",
       "2021-01-08  36824.363281  7.528943e+10  \n",
       "...                  ...           ...  \n",
       "2022-06-26  21231.656250  2.495778e+10  \n",
       "2022-06-27  21502.337891  1.837254e+10  \n",
       "2022-06-28  21027.294922  1.802717e+10  \n",
       "2022-06-29  20735.478516  2.096570e+10  \n",
       "2022-06-30  20280.634766  2.138154e+10  \n",
       "\n",
       "[543 rows x 6 columns]"
      ]
     },
     "execution_count": 36,
     "metadata": {},
     "output_type": "execute_result"
    }
   ],
   "source": [
    "X = bitcoin_data.shift(periods=2).dropna()\n",
    "X = X.loc[\"2021-01-04\":\"2022-06-30\"]\n",
    "X"
   ]
  },
  {
   "cell_type": "code",
   "execution_count": 37,
   "metadata": {},
   "outputs": [
    {
     "data": {
      "text/plain": [
       "Date\n",
       "2021-01-05     True\n",
       "2021-01-06     True\n",
       "2021-01-07     True\n",
       "2021-01-08     True\n",
       "2021-01-09    False\n",
       "              ...  \n",
       "2022-05-25    False\n",
       "2022-05-26    False\n",
       "2022-05-27    False\n",
       "2022-05-28     True\n",
       "2022-05-29     True\n",
       "Name: Close, Length: 510, dtype: bool"
      ]
     },
     "execution_count": 37,
     "metadata": {},
     "output_type": "execute_result"
    }
   ],
   "source": [
    "num_test = 33\n",
    "X_train = X[:-num_test]\n",
    "y_train = y[:-num_test]\n",
    "X_test = X[-num_test:]\n",
    "y_test = y[-num_test:]\n",
    "y_train"
   ]
  },
  {
   "cell_type": "code",
   "execution_count": 38,
   "metadata": {},
   "outputs": [
    {
     "data": {
      "text/plain": [
       "RandomForestClassifier(max_depth=4, random_state=17)"
      ]
     },
     "execution_count": 38,
     "metadata": {},
     "output_type": "execute_result"
    }
   ],
   "source": [
    "from sklearn.ensemble import RandomForestClassifier\n",
    "\n",
    "clf = RandomForestClassifier(max_depth=4, random_state=17)\n",
    "clf.fit(X_train, y_train)"
   ]
  },
  {
   "cell_type": "code",
   "execution_count": 39,
   "metadata": {},
   "outputs": [
    {
     "name": "stdout",
     "output_type": "stream",
     "text": [
      "0.42424242424242425\n"
     ]
    }
   ],
   "source": [
    "res = clf.predict(X_test)\n",
    "acc = (res== y_test.values).mean()\n",
    "print(acc)"
   ]
  },
  {
   "cell_type": "code",
   "execution_count": 40,
   "metadata": {},
   "outputs": [
    {
     "data": {
      "image/png": "[encoded data removed]",
      "text/plain": [
       "<Figure size 1296x648 with 1 Axes>"
      ]
     },
     "metadata": {
      "needs_background": "light"
     },
     "output_type": "display_data"
    }
   ],
   "source": [
    "%matplotlib inline\n",
    "import  matplotlib.pyplot as plt\n",
    "\n",
    "colors = ['green' if x else 'red' for x in res== y_test]\n",
    "\n",
    "ax = plt.gca()\n",
    "ax.plot(X_test['Open'],lw = 1, c = 'black')\n",
    "X_test.reset_index().plot.scatter( x = 'Date', y = 'Open',color = colors,s = 48,ax= ax,figsize=(18,9))\n",
    "ax.xaxis.set_major_locator(plt.MaxNLocator(4))"
   ]
  }
 ],
 "metadata": {
  "kernelspec": {
   "display_name": "Python 3.7.13 ('algotrading')",
   "language": "python",
   "name": "python3"
  },
  "language_info": {
   "codemirror_mode": {
    "name": "ipython",
    "version": 3
   },
   "file_extension": ".py",
   "mimetype": "text/x-python",
   "name": "python",
   "nbconvert_exporter": "python",
   "pygments_lexer": "ipython3",
   "version": "3.7.13"
  },
  "orig_nbformat": 4,
  "vscode": {
   "interpreter": {
    "hash": "12a5c97d45a766aae1399f806dd270105e21706fad1e889930db7ac762ccf209"
   }
  }
 },
 "nbformat": 4,
 "nbformat_minor": 2
}
